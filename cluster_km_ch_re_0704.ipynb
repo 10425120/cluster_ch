{
 "cells": [
  {
   "cell_type": "code",
   "execution_count": 53,
   "metadata": {},
   "outputs": [],
   "source": [
    "### import pandas as pd\n",
    "import numpy as np\n",
    "import matplotlib.pyplot as plt\n",
    "import matplotlib.pyplot as plt\n",
    "from sklearn.datasets import make_blobs\n",
    "from sklearn.metrics import silhouette_score\n",
    "from sklearn.cluster import KMeans\n",
    "import matplotlib.pyplot as plt\n",
    "from sklearn.datasets import make_blobs\n",
    "from sklearn.cluster import KMeans\n",
    "import matplotlib.pyplot as plt\n",
    "from mpl_toolkits.mplot3d import Axes3D \n",
    "from sklearn.datasets import make_blobs\n",
    "from sklearn.cluster import KMeans as kmeans\n",
    "from sklearn import cluster, metrics\n",
    "import matplotlib.pyplot as plt\n",
    "import pandas as pd\n",
    "data_le=pd.read_csv(r'C:\\Users\\Tsai\\kmean_cluster\\108109_cluster_kmean.csv')\n",
    "#data_le_df_un=data_le.drop(['class'],axis=1)\n",
    "title=data_le.columns\n",
    "data_le=np.array(data_le)\n",
    "dx=data_le\n",
    "\n",
    "\n",
    "clusters = 10\n",
    "\n",
    "distortions = []\n",
    "scores = []\n",
    "# K 值的範圍 (2~20)\n",
    "\n",
    "iris_X = dx\n",
    "\n",
    "from sklearn.metrics import silhouette_score"
   ]
  },
  {
   "cell_type": "code",
   "execution_count": 54,
   "metadata": {},
   "outputs": [],
   "source": [
    "### 迴圈\n",
    "silhouette_avgs = []\n",
    "ks = range(2, 11)\n",
    "for k in ks:\n",
    "    kmeans_fit = cluster.KMeans(n_clusters = k).fit(iris_X)\n",
    "    silhouette_avg = metrics.silhouette_score(iris_X, kmeans_fit.predict(dx))\n",
    "    \n",
    "    silhouette_avgs.append(silhouette_avg)\n",
    "    \n"
   ]
  },
  {
   "cell_type": "markdown",
   "metadata": {},
   "source": [
    "# ________________________"
   ]
  },
  {
   "cell_type": "code",
   "execution_count": 56,
   "metadata": {},
   "outputs": [],
   "source": [
    "len_cl=[]\n",
    "len_cl_1=[]\n",
    "\n",
    "for i in range(len(silhouette_avgs)-1):\n",
    "    len_cl.append(abs(silhouette_avgs[i]-silhouette_avgs[i+1]))\n",
    "for i in range(len(len_cl)-1):\n",
    "    len_cl_1.append(abs(len_cl[i]-len_cl[i+1]))    "
   ]
  },
  {
   "cell_type": "code",
   "execution_count": 57,
   "metadata": {},
   "outputs": [
    {
     "data": {
      "text/plain": [
       "[0.9573185762134477,\n",
       " 0.7508407703199074,\n",
       " 0.5949157848739716,\n",
       " 0.5830702098279099,\n",
       " 0.56956044660303,\n",
       " 0.5177542285913843,\n",
       " 0.5157720567857967,\n",
       " 0.5228036613955518,\n",
       " 0.5252883559832373]"
      ]
     },
     "execution_count": 57,
     "metadata": {},
     "output_type": "execute_result"
    }
   ],
   "source": [
    "silhouette_avgs"
   ]
  },
  {
   "cell_type": "code",
   "execution_count": 58,
   "metadata": {},
   "outputs": [
    {
     "data": {
      "text/plain": [
       "[0.20647780589354037,\n",
       " 0.1559249854459358,\n",
       " 0.011845575046061652,\n",
       " 0.013509763224879956,\n",
       " 0.051806218011645644,\n",
       " 0.0019821718055875737,\n",
       " 0.007031604609755049,\n",
       " 0.002484694587685521]"
      ]
     },
     "execution_count": 58,
     "metadata": {},
     "output_type": "execute_result"
    }
   ],
   "source": [
    "len_cl"
   ]
  },
  {
   "cell_type": "code",
   "execution_count": 59,
   "metadata": {},
   "outputs": [
    {
     "data": {
      "text/plain": [
       "[0.05055282044760456,\n",
       " 0.14407941039987415,\n",
       " 0.0016641881788183044,\n",
       " 0.03829645478676569,\n",
       " 0.04982404620605807,\n",
       " 0.005049432804167475,\n",
       " 0.004546910022069528]"
      ]
     },
     "execution_count": 59,
     "metadata": {},
     "output_type": "execute_result"
    }
   ],
   "source": [
    "len_cl_1"
   ]
  },
  {
   "cell_type": "code",
   "execution_count": 60,
   "metadata": {},
   "outputs": [
    {
     "data": {
      "image/png": "[encoded data removed]",
      "text/plain": [
       "<Figure size 432x288 with 1 Axes>"
      ]
     },
     "metadata": {
      "needs_background": "light"
     },
     "output_type": "display_data"
    }
   ],
   "source": [
    "bb=['2-3','3-4','4-5','5-6','6-7','7-8','8-9','9-10']\n",
    "plt.bar(bb,\n",
    "        len_cl,\n",
    "        width=0.5, \n",
    "        bottom=None, \n",
    "        align='center', \n",
    "       )\n",
    "plt.xticks(rotation='vertical')\n",
    "plt.show()\n"
   ]
  },
  {
   "cell_type": "code",
   "execution_count": 61,
   "metadata": {
    "scrolled": true
   },
   "outputs": [
    {
     "data": {
      "image/png": "[encoded data removed]",
      "text/plain": [
       "<Figure size 432x288 with 1 Axes>"
      ]
     },
     "metadata": {
      "needs_background": "light"
     },
     "output_type": "display_data"
    }
   ],
   "source": [
    "b=['2','3','4','5','6','7','8']\n",
    "plt.bar(b,\n",
    "        len_cl_1,\n",
    "        width=0.5, \n",
    "        bottom=None, \n",
    "        align='center')\n",
    "plt.xticks(rotation='vertical')\n",
    "plt.show()\n",
    "ca=[b,len_cl_1]"
   ]
  },
  {
   "cell_type": "code",
   "execution_count": 62,
   "metadata": {},
   "outputs": [
    {
     "data": {
      "image/png": "[encoded data removed]",
      "text/plain": [
       "<Figure size 720x360 with 1 Axes>"
      ]
     },
     "metadata": {
      "needs_background": "light"
     },
     "output_type": "display_data"
    }
   ],
   "source": [
    "selected_K=int(b[np.argmax(len_cl_1)])\n",
    "\n",
    "plt.figure(figsize=(10, 5))\n",
    "plt.title('Silhouette ')\n",
    "plt.xticks(ks)\n",
    "plt.xlabel('cluster')\n",
    "plt.plot(ks, silhouette_avgs)\n",
    "plt.plot(selected_K, silhouette_avgs[selected_K - 2], 'go') # 最佳解\n",
    "plt.show()"
   ]
  },
  {
   "cell_type": "code",
   "execution_count": 63,
   "metadata": {},
   "outputs": [],
   "source": [
    "#肘點位置不明顯（肘點可以是3，4，5），這時就無法確定K值了"
   ]
  },
  {
   "cell_type": "code",
   "execution_count": 64,
   "metadata": {},
   "outputs": [
    {
     "data": {
      "text/plain": [
       "[<matplotlib.lines.Line2D at 0x1f7f54abc40>]"
      ]
     },
     "execution_count": 64,
     "metadata": {},
     "output_type": "execute_result"
    },
    {
     "data": {
      "image/png": "[encoded data removed]",
      "text/plain": [
       "<Figure size 720x360 with 1 Axes>"
      ]
     },
     "metadata": {
      "needs_background": "light"
     },
     "output_type": "display_data"
    }
   ],
   "source": [
    "distortions = []\n",
    "\n",
    "# 記錄每種 K 值建出的 KMeans 模型的成效\n",
    "for i in ks:\n",
    "    kmeans = KMeans(n_clusters=i).fit(dx)\n",
    "    distortions.append(kmeans.inertia_) # 誤差平方和 (SSE)\n",
    "    scores.append(silhouette_score(dx, kmeans.predict(dx))) # 側影係數\n",
    "# 繪製誤差平方和圖 \n",
    "#plt.subplot(223)\n",
    "plt.figure(figsize=(10, 5))\n",
    "plt.title('SSE (elbow method)')\n",
    "plt.xlabel('cluster')\n",
    "\n",
    "plt.xticks(range(2,21))\n",
    "plt.plot(ks, distortions)\n",
    "plt.plot(selected_K, distortions[selected_K - 2], 'go') # 最佳解"
   ]
  },
  {
   "cell_type": "code",
   "execution_count": null,
   "metadata": {},
   "outputs": [],
   "source": []
  },
  {
   "cell_type": "code",
   "execution_count": null,
   "metadata": {},
   "outputs": [],
   "source": []
  },
  {
   "cell_type": "code",
   "execution_count": null,
   "metadata": {},
   "outputs": [],
   "source": []
  },
  {
   "cell_type": "code",
   "execution_count": null,
   "metadata": {},
   "outputs": [],
   "source": []
  }
 ],
 "metadata": {
  "kernelspec": {
   "display_name": "Python 3",
   "language": "python",
   "name": "python3"
  },
  "language_info": {
   "codemirror_mode": {
    "name": "ipython",
    "version": 3
   },
   "file_extension": ".py",
   "mimetype": "text/x-python",
   "name": "python",
   "nbconvert_exporter": "python",
   "pygments_lexer": "ipython3",
   "version": "3.8.5"
  }
 },
 "nbformat": 4,
 "nbformat_minor": 4
}
